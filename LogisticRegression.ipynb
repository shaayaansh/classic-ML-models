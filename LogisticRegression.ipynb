{
  "nbformat": 4,
  "nbformat_minor": 0,
  "metadata": {
    "colab": {
      "provenance": []
    },
    "kernelspec": {
      "name": "python3",
      "display_name": "Python 3"
    },
    "language_info": {
      "name": "python"
    }
  },
  "cells": [
    {
      "cell_type": "code",
      "source": [
        "!pip install mplcursors"
      ],
      "metadata": {
        "colab": {
          "base_uri": "https://localhost:8080/"
        },
        "id": "heIfPtZnE8y4",
        "outputId": "484ad9a2-241d-4202-df74-8ea60406af44"
      },
      "execution_count": 1,
      "outputs": [
        {
          "output_type": "stream",
          "name": "stdout",
          "text": [
            "Collecting mplcursors\n",
            "  Downloading mplcursors-0.6-py3-none-any.whl.metadata (3.0 kB)\n",
            "Requirement already satisfied: matplotlib!=3.7.1,>=3.1 in /usr/local/lib/python3.10/dist-packages (from mplcursors) (3.8.0)\n",
            "Requirement already satisfied: contourpy>=1.0.1 in /usr/local/lib/python3.10/dist-packages (from matplotlib!=3.7.1,>=3.1->mplcursors) (1.3.0)\n",
            "Requirement already satisfied: cycler>=0.10 in /usr/local/lib/python3.10/dist-packages (from matplotlib!=3.7.1,>=3.1->mplcursors) (0.12.1)\n",
            "Requirement already satisfied: fonttools>=4.22.0 in /usr/local/lib/python3.10/dist-packages (from matplotlib!=3.7.1,>=3.1->mplcursors) (4.54.1)\n",
            "Requirement already satisfied: kiwisolver>=1.0.1 in /usr/local/lib/python3.10/dist-packages (from matplotlib!=3.7.1,>=3.1->mplcursors) (1.4.7)\n",
            "Requirement already satisfied: numpy<2,>=1.21 in /usr/local/lib/python3.10/dist-packages (from matplotlib!=3.7.1,>=3.1->mplcursors) (1.26.4)\n",
            "Requirement already satisfied: packaging>=20.0 in /usr/local/lib/python3.10/dist-packages (from matplotlib!=3.7.1,>=3.1->mplcursors) (24.1)\n",
            "Requirement already satisfied: pillow>=6.2.0 in /usr/local/lib/python3.10/dist-packages (from matplotlib!=3.7.1,>=3.1->mplcursors) (10.4.0)\n",
            "Requirement already satisfied: pyparsing>=2.3.1 in /usr/local/lib/python3.10/dist-packages (from matplotlib!=3.7.1,>=3.1->mplcursors) (3.2.0)\n",
            "Requirement already satisfied: python-dateutil>=2.7 in /usr/local/lib/python3.10/dist-packages (from matplotlib!=3.7.1,>=3.1->mplcursors) (2.8.2)\n",
            "Requirement already satisfied: six>=1.5 in /usr/local/lib/python3.10/dist-packages (from python-dateutil>=2.7->matplotlib!=3.7.1,>=3.1->mplcursors) (1.16.0)\n",
            "Downloading mplcursors-0.6-py3-none-any.whl (20 kB)\n",
            "Installing collected packages: mplcursors\n",
            "Successfully installed mplcursors-0.6\n"
          ]
        }
      ]
    },
    {
      "cell_type": "code",
      "execution_count": 2,
      "metadata": {
        "id": "VdPh6ha3DP70"
      },
      "outputs": [],
      "source": [
        "import random\n",
        "import numpy as np\n",
        "import pandas as pd\n",
        "import matplotlib.pyplot as plt\n",
        "import seaborn as sns\n",
        "import mplcursors"
      ]
    },
    {
      "cell_type": "code",
      "source": [
        "# lets generate random data which has two features: x1, and x2\n",
        "# we want the data to be seperable in the space\n",
        "\n",
        "x = np.random.uniform(0, 3, (100, 2))\n",
        "x.shape"
      ],
      "metadata": {
        "colab": {
          "base_uri": "https://localhost:8080/"
        },
        "id": "auautw2YDbci",
        "outputId": "8a14cffc-2306-498c-ed5d-5f936839006d"
      },
      "execution_count": 3,
      "outputs": [
        {
          "output_type": "execute_result",
          "data": {
            "text/plain": [
              "(100, 2)"
            ]
          },
          "metadata": {},
          "execution_count": 3
        }
      ]
    },
    {
      "cell_type": "code",
      "source": [
        "x[10]"
      ],
      "metadata": {
        "colab": {
          "base_uri": "https://localhost:8080/"
        },
        "id": "qRtlKgAeJ7A1",
        "outputId": "f002dbd2-e5fe-4a09-a71b-a584d62c6c0d"
      },
      "execution_count": 4,
      "outputs": [
        {
          "output_type": "execute_result",
          "data": {
            "text/plain": [
              "array([2.28962242, 2.54926079])"
            ]
          },
          "metadata": {},
          "execution_count": 4
        }
      ]
    },
    {
      "cell_type": "code",
      "source": [
        "# now lets plot the data using two axes: x1 and x2\n",
        "import plotly.express as px\n",
        "\n",
        "data = pd.DataFrame({\n",
        "    'x1': x[:, 0],\n",
        "    'x2': x[:, 1]\n",
        "})\n",
        "\n",
        "fig = px.scatter(data, x='x1', y='x2', hover_data={'x1': True, 'x2': True})\n",
        "fig.update_layout(width=900, height=700)\n",
        "fig.show()"
      ],
      "metadata": {
        "colab": {
          "base_uri": "https://localhost:8080/",
          "height": 717
        },
        "id": "2v8zelMbDu1u",
        "outputId": "cbdf2f19-e2bc-411f-c66f-8687b9fadad2"
      },
      "execution_count": 5,
      "outputs": [
        {
          "output_type": "display_data",
          "data": {
            "text/html": [
              "<html>\n",
              "<head><meta charset=\"utf-8\" /></head>\n",
              "<body>\n",
              "    <div>            <script src=\"https://cdnjs.cloudflare.com/ajax/libs/mathjax/2.7.5/MathJax.js?config=TeX-AMS-MML_SVG\"></script><script type=\"text/javascript\">if (window.MathJax && window.MathJax.Hub && window.MathJax.Hub.Config) {window.MathJax.Hub.Config({SVG: {font: \"STIX-Web\"}});}</script>                <script type=\"text/javascript\">window.PlotlyConfig = {MathJaxConfig: 'local'};</script>\n",
              "        <script charset=\"utf-8\" src=\"https://cdn.plot.ly/plotly-2.35.2.min.js\"></script>                <div id=\"d6dd2d22-70bc-44bc-adf7-61a5b0a95d39\" class=\"plotly-graph-div\" style=\"height:700px; width:900px;\"></div>            <script type=\"text/javascript\">                                    window.PLOTLYENV=window.PLOTLYENV || {};                                    if (document.getElementById(\"d6dd2d22-70bc-44bc-adf7-61a5b0a95d39\")) {                    Plotly.newPlot(                        \"d6dd2d22-70bc-44bc-adf7-61a5b0a95d39\",                        [{\"hovertemplate\":\"x1=%{x}\\u003cbr\\u003ex2=%{y}\\u003cextra\\u003e\\u003c\\u002fextra\\u003e\",\"legendgroup\":\"\",\"marker\":{\"color\":\"#636efa\",\"symbol\":\"circle\"},\"mode\":\"markers\",\"name\":\"\",\"orientation\":\"v\",\"showlegend\":false,\"x\":[0.4094026111962944,0.43877337659455007,0.9673157022905295,1.8502095395685265,1.2851664669612026,0.7936690293335614,2.4532910072662633,2.487374714343071,1.445127349550754,0.9544196571095895,2.2896224179466795,0.3252278946823651,0.5630217463388489,0.36805882517533195,1.8228146265831897,2.4557334014756984,1.8426148944650282,1.2263773680400614,0.16487756945070853,2.0966871268388343,2.49173463002729,1.2871644788836079,2.2495074400841006,2.2927593154081753,1.2914306377812972,1.4858279018821827,0.90386247123349,0.5301146533530672,0.5845782884048998,0.4764548190591176,0.458360683268081,1.354114871986119,0.5576605883716896,2.652601586419187,1.4552477378406015,1.9808835823722284,1.1804870663845297,2.7044490023943544,2.3434554317339362,1.3865030356379067,2.9349080626128874,1.7532177911930162,0.9795948198147536,2.0922319358887433,1.390017967049778,1.8105998061611608,2.0191353914674597,1.3766105143330711,0.03576362295162416,2.87406355056767,0.06098328949012877,0.6703881856663817,0.07525609093919805,0.4356843979382724,2.7060748974472775,0.3392760053011208,1.1634377347744556,1.4648195632259544,1.802326209408856,2.712996942465685,2.2212466721111017,0.22429869633522048,2.977836321373223,2.2019605642472833,0.798865828544631,2.2685750230443804,1.1612054578028463,0.3121532911516648,2.3209764262849624,2.5347807876680584,0.420673432803805,2.2345086618843695,2.88099295678288,0.16558558232055176,2.0345693974530388,1.1378676502468084,1.161013612248468,2.480777473850597,0.25018026494865864,2.3909644287184153,2.1669272946920985,0.5572620002430908,1.8954934148445914,2.766540400058976,2.452082617774246,1.5697683103231546,2.139439269082971,1.081392788284422,2.727847735394387,1.4085054366165615,2.465340941089023,1.788784633297555,0.7196373028469251,0.19049136926186983,1.5443305354546453,1.485334157963775,2.0191821829183847,0.20128788293815725,2.13851284821593,1.943291122135339],\"xaxis\":\"x\",\"y\":[0.18702601591981782,1.230907416805798,1.6578372091567197,0.43753504460714,2.8621632764720433,1.6991337384793215,0.22985915174120486,0.5257878113672433,1.9971362556407815,2.4175400138380936,2.549260788376042,2.0939718759062096,1.4197279548810604,1.8459037180954359,1.9839074602315496,0.5223715633556425,0.8058369846822453,1.5243341316009276,0.5702163419865331,2.145472165920533,0.29227151167099996,1.0776107487705753,2.0433853218347706,0.22896601046146736,1.543681421560279,0.614647428450034,1.0825318293075104,0.6661484904617785,1.450367731516855,1.6185757504007436,0.8983395792072866,2.4135095924218573,0.8927441117256805,1.4252083571533425,0.38660705073648605,0.6046070728724341,0.3638038406872781,0.09493424549384522,0.028612279852002098,2.1106753302136925,2.129947662993824,2.996678373567496,1.306592160711132,2.4178966579372965,2.7923714202668566,1.045979977393702,0.8076334183155618,1.9108293108245147,0.04766852578291014,1.8555657556395797,2.394957098286018,1.8169470794537612,2.34915783742246,1.1975123295701908,1.6517417433105201,1.5749432563070154,0.25630321243883036,0.16768990967115838,0.5568415850324488,2.1099575053119626,2.480715239354892,1.8432820518441766,0.6903906218501016,0.08438729667295741,2.5638181286489186,0.5496561591544475,0.8926588647405013,0.14905350208784096,1.5013064529035574,0.06717779448375749,1.5911025864819441,2.2909252870120365,0.7093022749622201,2.358375334160784,2.5113114648165578,0.38338409882460434,0.9370397259240197,1.2353605113353772,2.2299479668457067,2.2318457642522453,1.6548898585107126,0.11100477628764449,1.9862520272658066,1.5323821965893982,1.2221611107877317,1.4782867248726304,0.44346324689946715,0.6735432586129975,2.2836302267694064,1.4825621242508649,2.426855618243881,1.9512448153564022,1.044804121505128,2.6750909938994414,2.4029705206979797,2.1866013038267607,1.9783571503557005,2.078627164700287,0.7673006496058609,0.4975133424723661],\"yaxis\":\"y\",\"type\":\"scatter\"}],                        {\"template\":{\"data\":{\"histogram2dcontour\":[{\"type\":\"histogram2dcontour\",\"colorbar\":{\"outlinewidth\":0,\"ticks\":\"\"},\"colorscale\":[[0.0,\"#0d0887\"],[0.1111111111111111,\"#46039f\"],[0.2222222222222222,\"#7201a8\"],[0.3333333333333333,\"#9c179e\"],[0.4444444444444444,\"#bd3786\"],[0.5555555555555556,\"#d8576b\"],[0.6666666666666666,\"#ed7953\"],[0.7777777777777778,\"#fb9f3a\"],[0.8888888888888888,\"#fdca26\"],[1.0,\"#f0f921\"]]}],\"choropleth\":[{\"type\":\"choropleth\",\"colorbar\":{\"outlinewidth\":0,\"ticks\":\"\"}}],\"histogram2d\":[{\"type\":\"histogram2d\",\"colorbar\":{\"outlinewidth\":0,\"ticks\":\"\"},\"colorscale\":[[0.0,\"#0d0887\"],[0.1111111111111111,\"#46039f\"],[0.2222222222222222,\"#7201a8\"],[0.3333333333333333,\"#9c179e\"],[0.4444444444444444,\"#bd3786\"],[0.5555555555555556,\"#d8576b\"],[0.6666666666666666,\"#ed7953\"],[0.7777777777777778,\"#fb9f3a\"],[0.8888888888888888,\"#fdca26\"],[1.0,\"#f0f921\"]]}],\"heatmap\":[{\"type\":\"heatmap\",\"colorbar\":{\"outlinewidth\":0,\"ticks\":\"\"},\"colorscale\":[[0.0,\"#0d0887\"],[0.1111111111111111,\"#46039f\"],[0.2222222222222222,\"#7201a8\"],[0.3333333333333333,\"#9c179e\"],[0.4444444444444444,\"#bd3786\"],[0.5555555555555556,\"#d8576b\"],[0.6666666666666666,\"#ed7953\"],[0.7777777777777778,\"#fb9f3a\"],[0.8888888888888888,\"#fdca26\"],[1.0,\"#f0f921\"]]}],\"heatmapgl\":[{\"type\":\"heatmapgl\",\"colorbar\":{\"outlinewidth\":0,\"ticks\":\"\"},\"colorscale\":[[0.0,\"#0d0887\"],[0.1111111111111111,\"#46039f\"],[0.2222222222222222,\"#7201a8\"],[0.3333333333333333,\"#9c179e\"],[0.4444444444444444,\"#bd3786\"],[0.5555555555555556,\"#d8576b\"],[0.6666666666666666,\"#ed7953\"],[0.7777777777777778,\"#fb9f3a\"],[0.8888888888888888,\"#fdca26\"],[1.0,\"#f0f921\"]]}],\"contourcarpet\":[{\"type\":\"contourcarpet\",\"colorbar\":{\"outlinewidth\":0,\"ticks\":\"\"}}],\"contour\":[{\"type\":\"contour\",\"colorbar\":{\"outlinewidth\":0,\"ticks\":\"\"},\"colorscale\":[[0.0,\"#0d0887\"],[0.1111111111111111,\"#46039f\"],[0.2222222222222222,\"#7201a8\"],[0.3333333333333333,\"#9c179e\"],[0.4444444444444444,\"#bd3786\"],[0.5555555555555556,\"#d8576b\"],[0.6666666666666666,\"#ed7953\"],[0.7777777777777778,\"#fb9f3a\"],[0.8888888888888888,\"#fdca26\"],[1.0,\"#f0f921\"]]}],\"surface\":[{\"type\":\"surface\",\"colorbar\":{\"outlinewidth\":0,\"ticks\":\"\"},\"colorscale\":[[0.0,\"#0d0887\"],[0.1111111111111111,\"#46039f\"],[0.2222222222222222,\"#7201a8\"],[0.3333333333333333,\"#9c179e\"],[0.4444444444444444,\"#bd3786\"],[0.5555555555555556,\"#d8576b\"],[0.6666666666666666,\"#ed7953\"],[0.7777777777777778,\"#fb9f3a\"],[0.8888888888888888,\"#fdca26\"],[1.0,\"#f0f921\"]]}],\"mesh3d\":[{\"type\":\"mesh3d\",\"colorbar\":{\"outlinewidth\":0,\"ticks\":\"\"}}],\"scatter\":[{\"fillpattern\":{\"fillmode\":\"overlay\",\"size\":10,\"solidity\":0.2},\"type\":\"scatter\"}],\"parcoords\":[{\"type\":\"parcoords\",\"line\":{\"colorbar\":{\"outlinewidth\":0,\"ticks\":\"\"}}}],\"scatterpolargl\":[{\"type\":\"scatterpolargl\",\"marker\":{\"colorbar\":{\"outlinewidth\":0,\"ticks\":\"\"}}}],\"bar\":[{\"error_x\":{\"color\":\"#2a3f5f\"},\"error_y\":{\"color\":\"#2a3f5f\"},\"marker\":{\"line\":{\"color\":\"#E5ECF6\",\"width\":0.5},\"pattern\":{\"fillmode\":\"overlay\",\"size\":10,\"solidity\":0.2}},\"type\":\"bar\"}],\"scattergeo\":[{\"type\":\"scattergeo\",\"marker\":{\"colorbar\":{\"outlinewidth\":0,\"ticks\":\"\"}}}],\"scatterpolar\":[{\"type\":\"scatterpolar\",\"marker\":{\"colorbar\":{\"outlinewidth\":0,\"ticks\":\"\"}}}],\"histogram\":[{\"marker\":{\"pattern\":{\"fillmode\":\"overlay\",\"size\":10,\"solidity\":0.2}},\"type\":\"histogram\"}],\"scattergl\":[{\"type\":\"scattergl\",\"marker\":{\"colorbar\":{\"outlinewidth\":0,\"ticks\":\"\"}}}],\"scatter3d\":[{\"type\":\"scatter3d\",\"line\":{\"colorbar\":{\"outlinewidth\":0,\"ticks\":\"\"}},\"marker\":{\"colorbar\":{\"outlinewidth\":0,\"ticks\":\"\"}}}],\"scattermapbox\":[{\"type\":\"scattermapbox\",\"marker\":{\"colorbar\":{\"outlinewidth\":0,\"ticks\":\"\"}}}],\"scatterternary\":[{\"type\":\"scatterternary\",\"marker\":{\"colorbar\":{\"outlinewidth\":0,\"ticks\":\"\"}}}],\"scattercarpet\":[{\"type\":\"scattercarpet\",\"marker\":{\"colorbar\":{\"outlinewidth\":0,\"ticks\":\"\"}}}],\"carpet\":[{\"aaxis\":{\"endlinecolor\":\"#2a3f5f\",\"gridcolor\":\"white\",\"linecolor\":\"white\",\"minorgridcolor\":\"white\",\"startlinecolor\":\"#2a3f5f\"},\"baxis\":{\"endlinecolor\":\"#2a3f5f\",\"gridcolor\":\"white\",\"linecolor\":\"white\",\"minorgridcolor\":\"white\",\"startlinecolor\":\"#2a3f5f\"},\"type\":\"carpet\"}],\"table\":[{\"cells\":{\"fill\":{\"color\":\"#EBF0F8\"},\"line\":{\"color\":\"white\"}},\"header\":{\"fill\":{\"color\":\"#C8D4E3\"},\"line\":{\"color\":\"white\"}},\"type\":\"table\"}],\"barpolar\":[{\"marker\":{\"line\":{\"color\":\"#E5ECF6\",\"width\":0.5},\"pattern\":{\"fillmode\":\"overlay\",\"size\":10,\"solidity\":0.2}},\"type\":\"barpolar\"}],\"pie\":[{\"automargin\":true,\"type\":\"pie\"}]},\"layout\":{\"autotypenumbers\":\"strict\",\"colorway\":[\"#636efa\",\"#EF553B\",\"#00cc96\",\"#ab63fa\",\"#FFA15A\",\"#19d3f3\",\"#FF6692\",\"#B6E880\",\"#FF97FF\",\"#FECB52\"],\"font\":{\"color\":\"#2a3f5f\"},\"hovermode\":\"closest\",\"hoverlabel\":{\"align\":\"left\"},\"paper_bgcolor\":\"white\",\"plot_bgcolor\":\"#E5ECF6\",\"polar\":{\"bgcolor\":\"#E5ECF6\",\"angularaxis\":{\"gridcolor\":\"white\",\"linecolor\":\"white\",\"ticks\":\"\"},\"radialaxis\":{\"gridcolor\":\"white\",\"linecolor\":\"white\",\"ticks\":\"\"}},\"ternary\":{\"bgcolor\":\"#E5ECF6\",\"aaxis\":{\"gridcolor\":\"white\",\"linecolor\":\"white\",\"ticks\":\"\"},\"baxis\":{\"gridcolor\":\"white\",\"linecolor\":\"white\",\"ticks\":\"\"},\"caxis\":{\"gridcolor\":\"white\",\"linecolor\":\"white\",\"ticks\":\"\"}},\"coloraxis\":{\"colorbar\":{\"outlinewidth\":0,\"ticks\":\"\"}},\"colorscale\":{\"sequential\":[[0.0,\"#0d0887\"],[0.1111111111111111,\"#46039f\"],[0.2222222222222222,\"#7201a8\"],[0.3333333333333333,\"#9c179e\"],[0.4444444444444444,\"#bd3786\"],[0.5555555555555556,\"#d8576b\"],[0.6666666666666666,\"#ed7953\"],[0.7777777777777778,\"#fb9f3a\"],[0.8888888888888888,\"#fdca26\"],[1.0,\"#f0f921\"]],\"sequentialminus\":[[0.0,\"#0d0887\"],[0.1111111111111111,\"#46039f\"],[0.2222222222222222,\"#7201a8\"],[0.3333333333333333,\"#9c179e\"],[0.4444444444444444,\"#bd3786\"],[0.5555555555555556,\"#d8576b\"],[0.6666666666666666,\"#ed7953\"],[0.7777777777777778,\"#fb9f3a\"],[0.8888888888888888,\"#fdca26\"],[1.0,\"#f0f921\"]],\"diverging\":[[0,\"#8e0152\"],[0.1,\"#c51b7d\"],[0.2,\"#de77ae\"],[0.3,\"#f1b6da\"],[0.4,\"#fde0ef\"],[0.5,\"#f7f7f7\"],[0.6,\"#e6f5d0\"],[0.7,\"#b8e186\"],[0.8,\"#7fbc41\"],[0.9,\"#4d9221\"],[1,\"#276419\"]]},\"xaxis\":{\"gridcolor\":\"white\",\"linecolor\":\"white\",\"ticks\":\"\",\"title\":{\"standoff\":15},\"zerolinecolor\":\"white\",\"automargin\":true,\"zerolinewidth\":2},\"yaxis\":{\"gridcolor\":\"white\",\"linecolor\":\"white\",\"ticks\":\"\",\"title\":{\"standoff\":15},\"zerolinecolor\":\"white\",\"automargin\":true,\"zerolinewidth\":2},\"scene\":{\"xaxis\":{\"backgroundcolor\":\"#E5ECF6\",\"gridcolor\":\"white\",\"linecolor\":\"white\",\"showbackground\":true,\"ticks\":\"\",\"zerolinecolor\":\"white\",\"gridwidth\":2},\"yaxis\":{\"backgroundcolor\":\"#E5ECF6\",\"gridcolor\":\"white\",\"linecolor\":\"white\",\"showbackground\":true,\"ticks\":\"\",\"zerolinecolor\":\"white\",\"gridwidth\":2},\"zaxis\":{\"backgroundcolor\":\"#E5ECF6\",\"gridcolor\":\"white\",\"linecolor\":\"white\",\"showbackground\":true,\"ticks\":\"\",\"zerolinecolor\":\"white\",\"gridwidth\":2}},\"shapedefaults\":{\"line\":{\"color\":\"#2a3f5f\"}},\"annotationdefaults\":{\"arrowcolor\":\"#2a3f5f\",\"arrowhead\":0,\"arrowwidth\":1},\"geo\":{\"bgcolor\":\"white\",\"landcolor\":\"#E5ECF6\",\"subunitcolor\":\"white\",\"showland\":true,\"showlakes\":true,\"lakecolor\":\"white\"},\"title\":{\"x\":0.05},\"mapbox\":{\"style\":\"light\"}}},\"xaxis\":{\"anchor\":\"y\",\"domain\":[0.0,1.0],\"title\":{\"text\":\"x1\"}},\"yaxis\":{\"anchor\":\"x\",\"domain\":[0.0,1.0],\"title\":{\"text\":\"x2\"}},\"legend\":{\"tracegroupgap\":0},\"margin\":{\"t\":60},\"width\":900,\"height\":700},                        {\"responsive\": true}                    ).then(function(){\n",
              "                            \n",
              "var gd = document.getElementById('d6dd2d22-70bc-44bc-adf7-61a5b0a95d39');\n",
              "var x = new MutationObserver(function (mutations, observer) {{\n",
              "        var display = window.getComputedStyle(gd).display;\n",
              "        if (!display || display === 'none') {{\n",
              "            console.log([gd, 'removed!']);\n",
              "            Plotly.purge(gd);\n",
              "            observer.disconnect();\n",
              "        }}\n",
              "}});\n",
              "\n",
              "// Listen for the removal of the full notebook cells\n",
              "var notebookContainer = gd.closest('#notebook-container');\n",
              "if (notebookContainer) {{\n",
              "    x.observe(notebookContainer, {childList: true});\n",
              "}}\n",
              "\n",
              "// Listen for the clearing of the current output cell\n",
              "var outputEl = gd.closest('.output');\n",
              "if (outputEl) {{\n",
              "    x.observe(outputEl, {childList: true});\n",
              "}}\n",
              "\n",
              "                        })                };                            </script>        </div>\n",
              "</body>\n",
              "</html>"
            ]
          },
          "metadata": {}
        }
      ]
    },
    {
      "cell_type": "code",
      "source": [
        "# now lets assign y to them\n",
        "# lets make anything above x1 + x2 = 2 to have y = 1 and anything below that to have y = 0\n",
        "\n",
        "y = np.zeros(100)\n",
        "for i in range(100):\n",
        "    if x[i,0] + x[i, 1] >= 2.4:\n",
        "        y[i] = 1\n",
        "    else:\n",
        "        y[i] = 0\n",
        "\n",
        "y.shape"
      ],
      "metadata": {
        "colab": {
          "base_uri": "https://localhost:8080/"
        },
        "id": "tG9GHZarD31w",
        "outputId": "bd53f9dd-440a-422e-97c3-d05dd6c05f20"
      },
      "execution_count": 6,
      "outputs": [
        {
          "output_type": "execute_result",
          "data": {
            "text/plain": [
              "(100,)"
            ]
          },
          "metadata": {},
          "execution_count": 6
        }
      ]
    },
    {
      "cell_type": "code",
      "source": [
        "# now lets color the data based on y\n",
        "# make it red if y == 1 and blue otherwise\n",
        "data[\"y\"] = y\n",
        "\n",
        "fig = px.scatter(data, x='x1', y='x2', color='y',\n",
        "                 color_continuous_scale=['blue', 'red'],\n",
        "                 hover_data={'x1': True, 'x2': True, 'y': True})\n",
        "\n",
        "fig.for_each_trace(lambda t: t.update(name='Red' if t.name == '1' else 'Blue'))\n",
        "fig.update_layout(width=900, height=700)\n",
        "fig.show()"
      ],
      "metadata": {
        "colab": {
          "base_uri": "https://localhost:8080/",
          "height": 717
        },
        "id": "OJqTvFYiESR0",
        "outputId": "b8f74c34-9413-4741-d028-59c27d594a92"
      },
      "execution_count": 7,
      "outputs": [
        {
          "output_type": "display_data",
          "data": {
            "text/html": [
              "<html>\n",
              "<head><meta charset=\"utf-8\" /></head>\n",
              "<body>\n",
              "    <div>            <script src=\"https://cdnjs.cloudflare.com/ajax/libs/mathjax/2.7.5/MathJax.js?config=TeX-AMS-MML_SVG\"></script><script type=\"text/javascript\">if (window.MathJax && window.MathJax.Hub && window.MathJax.Hub.Config) {window.MathJax.Hub.Config({SVG: {font: \"STIX-Web\"}});}</script>                <script type=\"text/javascript\">window.PlotlyConfig = {MathJaxConfig: 'local'};</script>\n",
              "        <script charset=\"utf-8\" src=\"https://cdn.plot.ly/plotly-2.35.2.min.js\"></script>                <div id=\"bf37e14f-40e7-4faf-87fa-4d2106c66ff6\" class=\"plotly-graph-div\" style=\"height:700px; width:900px;\"></div>            <script type=\"text/javascript\">                                    window.PLOTLYENV=window.PLOTLYENV || {};                                    if (document.getElementById(\"bf37e14f-40e7-4faf-87fa-4d2106c66ff6\")) {                    Plotly.newPlot(                        \"bf37e14f-40e7-4faf-87fa-4d2106c66ff6\",                        [{\"customdata\":[[0.0],[0.0],[1.0],[0.0],[1.0],[1.0],[1.0],[1.0],[1.0],[1.0],[1.0],[1.0],[0.0],[0.0],[1.0],[1.0],[1.0],[1.0],[0.0],[1.0],[1.0],[0.0],[1.0],[1.0],[1.0],[0.0],[0.0],[0.0],[0.0],[0.0],[0.0],[1.0],[0.0],[1.0],[0.0],[1.0],[0.0],[1.0],[0.0],[1.0],[1.0],[1.0],[0.0],[1.0],[1.0],[1.0],[1.0],[1.0],[0.0],[1.0],[1.0],[1.0],[1.0],[0.0],[1.0],[0.0],[0.0],[0.0],[0.0],[1.0],[1.0],[0.0],[1.0],[0.0],[1.0],[1.0],[0.0],[0.0],[1.0],[1.0],[0.0],[1.0],[1.0],[1.0],[1.0],[0.0],[0.0],[1.0],[1.0],[1.0],[1.0],[0.0],[1.0],[1.0],[1.0],[1.0],[1.0],[0.0],[1.0],[1.0],[1.0],[1.0],[0.0],[1.0],[1.0],[1.0],[1.0],[0.0],[1.0],[1.0]],\"hovertemplate\":\"x1=%{x}\\u003cbr\\u003ex2=%{y}\\u003cbr\\u003ey=%{marker.color}\\u003cextra\\u003e\\u003c\\u002fextra\\u003e\",\"legendgroup\":\"\",\"marker\":{\"color\":[0.0,0.0,1.0,0.0,1.0,1.0,1.0,1.0,1.0,1.0,1.0,1.0,0.0,0.0,1.0,1.0,1.0,1.0,0.0,1.0,1.0,0.0,1.0,1.0,1.0,0.0,0.0,0.0,0.0,0.0,0.0,1.0,0.0,1.0,0.0,1.0,0.0,1.0,0.0,1.0,1.0,1.0,0.0,1.0,1.0,1.0,1.0,1.0,0.0,1.0,1.0,1.0,1.0,0.0,1.0,0.0,0.0,0.0,0.0,1.0,1.0,0.0,1.0,0.0,1.0,1.0,0.0,0.0,1.0,1.0,0.0,1.0,1.0,1.0,1.0,0.0,0.0,1.0,1.0,1.0,1.0,0.0,1.0,1.0,1.0,1.0,1.0,0.0,1.0,1.0,1.0,1.0,0.0,1.0,1.0,1.0,1.0,0.0,1.0,1.0],\"coloraxis\":\"coloraxis\",\"symbol\":\"circle\"},\"mode\":\"markers\",\"name\":\"Blue\",\"orientation\":\"v\",\"showlegend\":false,\"x\":[0.4094026111962944,0.43877337659455007,0.9673157022905295,1.8502095395685265,1.2851664669612026,0.7936690293335614,2.4532910072662633,2.487374714343071,1.445127349550754,0.9544196571095895,2.2896224179466795,0.3252278946823651,0.5630217463388489,0.36805882517533195,1.8228146265831897,2.4557334014756984,1.8426148944650282,1.2263773680400614,0.16487756945070853,2.0966871268388343,2.49173463002729,1.2871644788836079,2.2495074400841006,2.2927593154081753,1.2914306377812972,1.4858279018821827,0.90386247123349,0.5301146533530672,0.5845782884048998,0.4764548190591176,0.458360683268081,1.354114871986119,0.5576605883716896,2.652601586419187,1.4552477378406015,1.9808835823722284,1.1804870663845297,2.7044490023943544,2.3434554317339362,1.3865030356379067,2.9349080626128874,1.7532177911930162,0.9795948198147536,2.0922319358887433,1.390017967049778,1.8105998061611608,2.0191353914674597,1.3766105143330711,0.03576362295162416,2.87406355056767,0.06098328949012877,0.6703881856663817,0.07525609093919805,0.4356843979382724,2.7060748974472775,0.3392760053011208,1.1634377347744556,1.4648195632259544,1.802326209408856,2.712996942465685,2.2212466721111017,0.22429869633522048,2.977836321373223,2.2019605642472833,0.798865828544631,2.2685750230443804,1.1612054578028463,0.3121532911516648,2.3209764262849624,2.5347807876680584,0.420673432803805,2.2345086618843695,2.88099295678288,0.16558558232055176,2.0345693974530388,1.1378676502468084,1.161013612248468,2.480777473850597,0.25018026494865864,2.3909644287184153,2.1669272946920985,0.5572620002430908,1.8954934148445914,2.766540400058976,2.452082617774246,1.5697683103231546,2.139439269082971,1.081392788284422,2.727847735394387,1.4085054366165615,2.465340941089023,1.788784633297555,0.7196373028469251,0.19049136926186983,1.5443305354546453,1.485334157963775,2.0191821829183847,0.20128788293815725,2.13851284821593,1.943291122135339],\"xaxis\":\"x\",\"y\":[0.18702601591981782,1.230907416805798,1.6578372091567197,0.43753504460714,2.8621632764720433,1.6991337384793215,0.22985915174120486,0.5257878113672433,1.9971362556407815,2.4175400138380936,2.549260788376042,2.0939718759062096,1.4197279548810604,1.8459037180954359,1.9839074602315496,0.5223715633556425,0.8058369846822453,1.5243341316009276,0.5702163419865331,2.145472165920533,0.29227151167099996,1.0776107487705753,2.0433853218347706,0.22896601046146736,1.543681421560279,0.614647428450034,1.0825318293075104,0.6661484904617785,1.450367731516855,1.6185757504007436,0.8983395792072866,2.4135095924218573,0.8927441117256805,1.4252083571533425,0.38660705073648605,0.6046070728724341,0.3638038406872781,0.09493424549384522,0.028612279852002098,2.1106753302136925,2.129947662993824,2.996678373567496,1.306592160711132,2.4178966579372965,2.7923714202668566,1.045979977393702,0.8076334183155618,1.9108293108245147,0.04766852578291014,1.8555657556395797,2.394957098286018,1.8169470794537612,2.34915783742246,1.1975123295701908,1.6517417433105201,1.5749432563070154,0.25630321243883036,0.16768990967115838,0.5568415850324488,2.1099575053119626,2.480715239354892,1.8432820518441766,0.6903906218501016,0.08438729667295741,2.5638181286489186,0.5496561591544475,0.8926588647405013,0.14905350208784096,1.5013064529035574,0.06717779448375749,1.5911025864819441,2.2909252870120365,0.7093022749622201,2.358375334160784,2.5113114648165578,0.38338409882460434,0.9370397259240197,1.2353605113353772,2.2299479668457067,2.2318457642522453,1.6548898585107126,0.11100477628764449,1.9862520272658066,1.5323821965893982,1.2221611107877317,1.4782867248726304,0.44346324689946715,0.6735432586129975,2.2836302267694064,1.4825621242508649,2.426855618243881,1.9512448153564022,1.044804121505128,2.6750909938994414,2.4029705206979797,2.1866013038267607,1.9783571503557005,2.078627164700287,0.7673006496058609,0.4975133424723661],\"yaxis\":\"y\",\"type\":\"scatter\"}],                        {\"template\":{\"data\":{\"histogram2dcontour\":[{\"type\":\"histogram2dcontour\",\"colorbar\":{\"outlinewidth\":0,\"ticks\":\"\"},\"colorscale\":[[0.0,\"#0d0887\"],[0.1111111111111111,\"#46039f\"],[0.2222222222222222,\"#7201a8\"],[0.3333333333333333,\"#9c179e\"],[0.4444444444444444,\"#bd3786\"],[0.5555555555555556,\"#d8576b\"],[0.6666666666666666,\"#ed7953\"],[0.7777777777777778,\"#fb9f3a\"],[0.8888888888888888,\"#fdca26\"],[1.0,\"#f0f921\"]]}],\"choropleth\":[{\"type\":\"choropleth\",\"colorbar\":{\"outlinewidth\":0,\"ticks\":\"\"}}],\"histogram2d\":[{\"type\":\"histogram2d\",\"colorbar\":{\"outlinewidth\":0,\"ticks\":\"\"},\"colorscale\":[[0.0,\"#0d0887\"],[0.1111111111111111,\"#46039f\"],[0.2222222222222222,\"#7201a8\"],[0.3333333333333333,\"#9c179e\"],[0.4444444444444444,\"#bd3786\"],[0.5555555555555556,\"#d8576b\"],[0.6666666666666666,\"#ed7953\"],[0.7777777777777778,\"#fb9f3a\"],[0.8888888888888888,\"#fdca26\"],[1.0,\"#f0f921\"]]}],\"heatmap\":[{\"type\":\"heatmap\",\"colorbar\":{\"outlinewidth\":0,\"ticks\":\"\"},\"colorscale\":[[0.0,\"#0d0887\"],[0.1111111111111111,\"#46039f\"],[0.2222222222222222,\"#7201a8\"],[0.3333333333333333,\"#9c179e\"],[0.4444444444444444,\"#bd3786\"],[0.5555555555555556,\"#d8576b\"],[0.6666666666666666,\"#ed7953\"],[0.7777777777777778,\"#fb9f3a\"],[0.8888888888888888,\"#fdca26\"],[1.0,\"#f0f921\"]]}],\"heatmapgl\":[{\"type\":\"heatmapgl\",\"colorbar\":{\"outlinewidth\":0,\"ticks\":\"\"},\"colorscale\":[[0.0,\"#0d0887\"],[0.1111111111111111,\"#46039f\"],[0.2222222222222222,\"#7201a8\"],[0.3333333333333333,\"#9c179e\"],[0.4444444444444444,\"#bd3786\"],[0.5555555555555556,\"#d8576b\"],[0.6666666666666666,\"#ed7953\"],[0.7777777777777778,\"#fb9f3a\"],[0.8888888888888888,\"#fdca26\"],[1.0,\"#f0f921\"]]}],\"contourcarpet\":[{\"type\":\"contourcarpet\",\"colorbar\":{\"outlinewidth\":0,\"ticks\":\"\"}}],\"contour\":[{\"type\":\"contour\",\"colorbar\":{\"outlinewidth\":0,\"ticks\":\"\"},\"colorscale\":[[0.0,\"#0d0887\"],[0.1111111111111111,\"#46039f\"],[0.2222222222222222,\"#7201a8\"],[0.3333333333333333,\"#9c179e\"],[0.4444444444444444,\"#bd3786\"],[0.5555555555555556,\"#d8576b\"],[0.6666666666666666,\"#ed7953\"],[0.7777777777777778,\"#fb9f3a\"],[0.8888888888888888,\"#fdca26\"],[1.0,\"#f0f921\"]]}],\"surface\":[{\"type\":\"surface\",\"colorbar\":{\"outlinewidth\":0,\"ticks\":\"\"},\"colorscale\":[[0.0,\"#0d0887\"],[0.1111111111111111,\"#46039f\"],[0.2222222222222222,\"#7201a8\"],[0.3333333333333333,\"#9c179e\"],[0.4444444444444444,\"#bd3786\"],[0.5555555555555556,\"#d8576b\"],[0.6666666666666666,\"#ed7953\"],[0.7777777777777778,\"#fb9f3a\"],[0.8888888888888888,\"#fdca26\"],[1.0,\"#f0f921\"]]}],\"mesh3d\":[{\"type\":\"mesh3d\",\"colorbar\":{\"outlinewidth\":0,\"ticks\":\"\"}}],\"scatter\":[{\"fillpattern\":{\"fillmode\":\"overlay\",\"size\":10,\"solidity\":0.2},\"type\":\"scatter\"}],\"parcoords\":[{\"type\":\"parcoords\",\"line\":{\"colorbar\":{\"outlinewidth\":0,\"ticks\":\"\"}}}],\"scatterpolargl\":[{\"type\":\"scatterpolargl\",\"marker\":{\"colorbar\":{\"outlinewidth\":0,\"ticks\":\"\"}}}],\"bar\":[{\"error_x\":{\"color\":\"#2a3f5f\"},\"error_y\":{\"color\":\"#2a3f5f\"},\"marker\":{\"line\":{\"color\":\"#E5ECF6\",\"width\":0.5},\"pattern\":{\"fillmode\":\"overlay\",\"size\":10,\"solidity\":0.2}},\"type\":\"bar\"}],\"scattergeo\":[{\"type\":\"scattergeo\",\"marker\":{\"colorbar\":{\"outlinewidth\":0,\"ticks\":\"\"}}}],\"scatterpolar\":[{\"type\":\"scatterpolar\",\"marker\":{\"colorbar\":{\"outlinewidth\":0,\"ticks\":\"\"}}}],\"histogram\":[{\"marker\":{\"pattern\":{\"fillmode\":\"overlay\",\"size\":10,\"solidity\":0.2}},\"type\":\"histogram\"}],\"scattergl\":[{\"type\":\"scattergl\",\"marker\":{\"colorbar\":{\"outlinewidth\":0,\"ticks\":\"\"}}}],\"scatter3d\":[{\"type\":\"scatter3d\",\"line\":{\"colorbar\":{\"outlinewidth\":0,\"ticks\":\"\"}},\"marker\":{\"colorbar\":{\"outlinewidth\":0,\"ticks\":\"\"}}}],\"scattermapbox\":[{\"type\":\"scattermapbox\",\"marker\":{\"colorbar\":{\"outlinewidth\":0,\"ticks\":\"\"}}}],\"scatterternary\":[{\"type\":\"scatterternary\",\"marker\":{\"colorbar\":{\"outlinewidth\":0,\"ticks\":\"\"}}}],\"scattercarpet\":[{\"type\":\"scattercarpet\",\"marker\":{\"colorbar\":{\"outlinewidth\":0,\"ticks\":\"\"}}}],\"carpet\":[{\"aaxis\":{\"endlinecolor\":\"#2a3f5f\",\"gridcolor\":\"white\",\"linecolor\":\"white\",\"minorgridcolor\":\"white\",\"startlinecolor\":\"#2a3f5f\"},\"baxis\":{\"endlinecolor\":\"#2a3f5f\",\"gridcolor\":\"white\",\"linecolor\":\"white\",\"minorgridcolor\":\"white\",\"startlinecolor\":\"#2a3f5f\"},\"type\":\"carpet\"}],\"table\":[{\"cells\":{\"fill\":{\"color\":\"#EBF0F8\"},\"line\":{\"color\":\"white\"}},\"header\":{\"fill\":{\"color\":\"#C8D4E3\"},\"line\":{\"color\":\"white\"}},\"type\":\"table\"}],\"barpolar\":[{\"marker\":{\"line\":{\"color\":\"#E5ECF6\",\"width\":0.5},\"pattern\":{\"fillmode\":\"overlay\",\"size\":10,\"solidity\":0.2}},\"type\":\"barpolar\"}],\"pie\":[{\"automargin\":true,\"type\":\"pie\"}]},\"layout\":{\"autotypenumbers\":\"strict\",\"colorway\":[\"#636efa\",\"#EF553B\",\"#00cc96\",\"#ab63fa\",\"#FFA15A\",\"#19d3f3\",\"#FF6692\",\"#B6E880\",\"#FF97FF\",\"#FECB52\"],\"font\":{\"color\":\"#2a3f5f\"},\"hovermode\":\"closest\",\"hoverlabel\":{\"align\":\"left\"},\"paper_bgcolor\":\"white\",\"plot_bgcolor\":\"#E5ECF6\",\"polar\":{\"bgcolor\":\"#E5ECF6\",\"angularaxis\":{\"gridcolor\":\"white\",\"linecolor\":\"white\",\"ticks\":\"\"},\"radialaxis\":{\"gridcolor\":\"white\",\"linecolor\":\"white\",\"ticks\":\"\"}},\"ternary\":{\"bgcolor\":\"#E5ECF6\",\"aaxis\":{\"gridcolor\":\"white\",\"linecolor\":\"white\",\"ticks\":\"\"},\"baxis\":{\"gridcolor\":\"white\",\"linecolor\":\"white\",\"ticks\":\"\"},\"caxis\":{\"gridcolor\":\"white\",\"linecolor\":\"white\",\"ticks\":\"\"}},\"coloraxis\":{\"colorbar\":{\"outlinewidth\":0,\"ticks\":\"\"}},\"colorscale\":{\"sequential\":[[0.0,\"#0d0887\"],[0.1111111111111111,\"#46039f\"],[0.2222222222222222,\"#7201a8\"],[0.3333333333333333,\"#9c179e\"],[0.4444444444444444,\"#bd3786\"],[0.5555555555555556,\"#d8576b\"],[0.6666666666666666,\"#ed7953\"],[0.7777777777777778,\"#fb9f3a\"],[0.8888888888888888,\"#fdca26\"],[1.0,\"#f0f921\"]],\"sequentialminus\":[[0.0,\"#0d0887\"],[0.1111111111111111,\"#46039f\"],[0.2222222222222222,\"#7201a8\"],[0.3333333333333333,\"#9c179e\"],[0.4444444444444444,\"#bd3786\"],[0.5555555555555556,\"#d8576b\"],[0.6666666666666666,\"#ed7953\"],[0.7777777777777778,\"#fb9f3a\"],[0.8888888888888888,\"#fdca26\"],[1.0,\"#f0f921\"]],\"diverging\":[[0,\"#8e0152\"],[0.1,\"#c51b7d\"],[0.2,\"#de77ae\"],[0.3,\"#f1b6da\"],[0.4,\"#fde0ef\"],[0.5,\"#f7f7f7\"],[0.6,\"#e6f5d0\"],[0.7,\"#b8e186\"],[0.8,\"#7fbc41\"],[0.9,\"#4d9221\"],[1,\"#276419\"]]},\"xaxis\":{\"gridcolor\":\"white\",\"linecolor\":\"white\",\"ticks\":\"\",\"title\":{\"standoff\":15},\"zerolinecolor\":\"white\",\"automargin\":true,\"zerolinewidth\":2},\"yaxis\":{\"gridcolor\":\"white\",\"linecolor\":\"white\",\"ticks\":\"\",\"title\":{\"standoff\":15},\"zerolinecolor\":\"white\",\"automargin\":true,\"zerolinewidth\":2},\"scene\":{\"xaxis\":{\"backgroundcolor\":\"#E5ECF6\",\"gridcolor\":\"white\",\"linecolor\":\"white\",\"showbackground\":true,\"ticks\":\"\",\"zerolinecolor\":\"white\",\"gridwidth\":2},\"yaxis\":{\"backgroundcolor\":\"#E5ECF6\",\"gridcolor\":\"white\",\"linecolor\":\"white\",\"showbackground\":true,\"ticks\":\"\",\"zerolinecolor\":\"white\",\"gridwidth\":2},\"zaxis\":{\"backgroundcolor\":\"#E5ECF6\",\"gridcolor\":\"white\",\"linecolor\":\"white\",\"showbackground\":true,\"ticks\":\"\",\"zerolinecolor\":\"white\",\"gridwidth\":2}},\"shapedefaults\":{\"line\":{\"color\":\"#2a3f5f\"}},\"annotationdefaults\":{\"arrowcolor\":\"#2a3f5f\",\"arrowhead\":0,\"arrowwidth\":1},\"geo\":{\"bgcolor\":\"white\",\"landcolor\":\"#E5ECF6\",\"subunitcolor\":\"white\",\"showland\":true,\"showlakes\":true,\"lakecolor\":\"white\"},\"title\":{\"x\":0.05},\"mapbox\":{\"style\":\"light\"}}},\"xaxis\":{\"anchor\":\"y\",\"domain\":[0.0,1.0],\"title\":{\"text\":\"x1\"}},\"yaxis\":{\"anchor\":\"x\",\"domain\":[0.0,1.0],\"title\":{\"text\":\"x2\"}},\"coloraxis\":{\"colorbar\":{\"title\":{\"text\":\"y\"}},\"colorscale\":[[0.0,\"blue\"],[1.0,\"red\"]]},\"legend\":{\"tracegroupgap\":0},\"margin\":{\"t\":60},\"width\":900,\"height\":700},                        {\"responsive\": true}                    ).then(function(){\n",
              "                            \n",
              "var gd = document.getElementById('bf37e14f-40e7-4faf-87fa-4d2106c66ff6');\n",
              "var x = new MutationObserver(function (mutations, observer) {{\n",
              "        var display = window.getComputedStyle(gd).display;\n",
              "        if (!display || display === 'none') {{\n",
              "            console.log([gd, 'removed!']);\n",
              "            Plotly.purge(gd);\n",
              "            observer.disconnect();\n",
              "        }}\n",
              "}});\n",
              "\n",
              "// Listen for the removal of the full notebook cells\n",
              "var notebookContainer = gd.closest('#notebook-container');\n",
              "if (notebookContainer) {{\n",
              "    x.observe(notebookContainer, {childList: true});\n",
              "}}\n",
              "\n",
              "// Listen for the clearing of the current output cell\n",
              "var outputEl = gd.closest('.output');\n",
              "if (outputEl) {{\n",
              "    x.observe(outputEl, {childList: true});\n",
              "}}\n",
              "\n",
              "                        })                };                            </script>        </div>\n",
              "</body>\n",
              "</html>"
            ]
          },
          "metadata": {}
        }
      ]
    },
    {
      "cell_type": "code",
      "source": [
        "class LogisticRegression():\n",
        "    def __init__(self, w1, w2, b):\n",
        "        self.w1 = w1\n",
        "        self.w2 = w2\n",
        "        self.b = b\n",
        "\n",
        "    def sigmoid(self, x):\n",
        "        return 1 / (1 + np.exp(-x))\n",
        "\n",
        "    def predict(self, x):\n",
        "        return self.sigmoid(self.w1 * x[:,0] + self.w2 * x[:,1] + self.b)"
      ],
      "metadata": {
        "id": "b7f45fR8KZFD"
      },
      "execution_count": 8,
      "outputs": []
    },
    {
      "cell_type": "code",
      "source": [
        "lgr = LogisticRegression(1, 1, 2)\n",
        "\n",
        "y_pred = lgr.predict(x)\n",
        "y_pred.shape"
      ],
      "metadata": {
        "colab": {
          "base_uri": "https://localhost:8080/"
        },
        "id": "5bb3gRupEXxU",
        "outputId": "2eb000fd-3524-496e-ac8d-53997afdeeb9"
      },
      "execution_count": 9,
      "outputs": [
        {
          "output_type": "execute_result",
          "data": {
            "text/plain": [
              "(100,)"
            ]
          },
          "metadata": {},
          "execution_count": 9
        }
      ]
    },
    {
      "cell_type": "code",
      "source": [
        "# define loss function for the entire batch\n",
        "def cross_entropy(y_true, y_pred):\n",
        "    return -np.mean(y_true * np.log(y_pred) + (1-y_true)*np.log(1-y_pred))\n",
        "\n",
        "cross_entropy(y, y_pred)"
      ],
      "metadata": {
        "colab": {
          "base_uri": "https://localhost:8080/"
        },
        "id": "STRBwRKZFvLm",
        "outputId": "52c8ee8c-d4a8-4655-812a-cd9845c39724"
      },
      "execution_count": 10,
      "outputs": [
        {
          "output_type": "execute_result",
          "data": {
            "text/plain": [
              "1.3150071165482204"
            ]
          },
          "metadata": {},
          "execution_count": 10
        }
      ]
    },
    {
      "cell_type": "code",
      "source": [
        "def compute_gradients(y_true, y_pred, x):\n",
        "    dw1 = np.mean((y_pred - y_true) * x[:,0])\n",
        "    dw2 = np.mean((y_pred - y) * x[:,1])\n",
        "    db = np.mean((y_pred - y))\n",
        "\n",
        "    return dw1, dw2, db"
      ],
      "metadata": {
        "id": "3zwHi8CvF5Sq"
      },
      "execution_count": 11,
      "outputs": []
    },
    {
      "cell_type": "code",
      "source": [
        "def run_gradient_decent(model, x, y, epochs, learning_rate):\n",
        "    losses = []\n",
        "    for epoch in range(epochs):\n",
        "      y_pred = model.predict(x)\n",
        "      loss = cross_entropy(y, y_pred)\n",
        "      dw1, dw2, db = compute_gradients(y, y_pred, x)\n",
        "      model.w1 -= learning_rate * dw1\n",
        "      model.w2 -= learning_rate * dw2\n",
        "      model.b -= learning_rate * db\n",
        "\n",
        "      #if epoch % 5 == 0:\n",
        "        #print(f\"Epoch: {epoch}, Loss: {loss}\")\n",
        "\n",
        "      losses.append(loss)\n",
        "\n",
        "    return losses"
      ],
      "metadata": {
        "id": "F6CbFoXNVV2g"
      },
      "execution_count": 32,
      "outputs": []
    },
    {
      "cell_type": "code",
      "source": [
        "run_gradient_decent(lgr, x, y, 500, 0.001)"
      ],
      "metadata": {
        "colab": {
          "base_uri": "https://localhost:8080/"
        },
        "id": "c7Qq7bnpV63K",
        "outputId": "b0445dcf-8e1a-467e-efe0-07888f0a8474"
      },
      "execution_count": 33,
      "outputs": [
        {
          "output_type": "execute_result",
          "data": {
            "text/plain": [
              "[1.1779229204972927,\n",
              " 1.1776558661799679,\n",
              " 1.1773888446958845,\n",
              " 1.1771218560741408,\n",
              " 1.1768549003438555,\n",
              " 1.1765879775341685,\n",
              " 1.1763210876742416,\n",
              " 1.1760542307932578,\n",
              " 1.17578740692042,\n",
              " 1.1755206160849547,\n",
              " 1.175253858316108,\n",
              " 1.1749871336431474,\n",
              " 1.1747204420953623,\n",
              " 1.174453783702063,\n",
              " 1.1741871584925807,\n",
              " 1.1739205664962689,\n",
              " 1.1736540077425013,\n",
              " 1.1733874822606731,\n",
              " 1.1731209900802022,\n",
              " 1.172854531230525,\n",
              " 1.1725881057411025,\n",
              " 1.1723217136414137,\n",
              " 1.1720553549609625,\n",
              " 1.1717890297292706,\n",
              " 1.1715227379758826,\n",
              " 1.1712564797303653,\n",
              " 1.1709902550223048,\n",
              " 1.1707240638813103,\n",
              " 1.170457906337011,\n",
              " 1.1701917824190589,\n",
              " 1.1699256921571257,\n",
              " 1.169659635580905,\n",
              " 1.169393612720113,\n",
              " 1.1691276236044843,\n",
              " 1.1688616682637782,\n",
              " 1.1685957467277737,\n",
              " 1.1683298590262703,\n",
              " 1.1680640051890903,\n",
              " 1.1677981852460766,\n",
              " 1.1675323992270938,\n",
              " 1.1672666471620274,\n",
              " 1.1670009290807848,\n",
              " 1.1667352450132946,\n",
              " 1.166469594989506,\n",
              " 1.1662039790393903,\n",
              " 1.165938397192941,\n",
              " 1.1656728494801707,\n",
              " 1.1654073359311152,\n",
              " 1.1651418565758307,\n",
              " 1.1648764114443961,\n",
              " 1.16461100056691,\n",
              " 1.1643456239734928,\n",
              " 1.1640802816942866,\n",
              " 1.1638149737594559,\n",
              " 1.1635497001991844,\n",
              " 1.1632844610436779,\n",
              " 1.1630192563231652,\n",
              " 1.1627540860678942,\n",
              " 1.1624889503081355,\n",
              " 1.162223849074181,\n",
              " 1.1619587823963429,\n",
              " 1.1616937503049565,\n",
              " 1.161428752830377,\n",
              " 1.1611637900029819,\n",
              " 1.1608988618531695,\n",
              " 1.1606339684113596,\n",
              " 1.1603691097079942,\n",
              " 1.1601042857735349,\n",
              " 1.1598394966384666,\n",
              " 1.1595747423332947,\n",
              " 1.159310022888546,\n",
              " 1.159045338334768,\n",
              " 1.1587806887025314,\n",
              " 1.1585160740224272,\n",
              " 1.158251494325067,\n",
              " 1.1579869496410848,\n",
              " 1.1577224400011363,\n",
              " 1.1574579654358979,\n",
              " 1.1571935259760675,\n",
              " 1.1569291216523643,\n",
              " 1.1566647524955298,\n",
              " 1.1564004185363248,\n",
              " 1.1561361198055344,\n",
              " 1.1558718563339625,\n",
              " 1.1556076281524366,\n",
              " 1.1553434352918028,\n",
              " 1.1550792777829315,\n",
              " 1.1548151556567132,\n",
              " 1.1545510689440597,\n",
              " 1.154287017675904,\n",
              " 1.154023001883201,\n",
              " 1.1537590215969273,\n",
              " 1.1534950768480805,\n",
              " 1.1532311676676787,\n",
              " 1.1529672940867632,\n",
              " 1.1527034561363951,\n",
              " 1.1524396538476578,\n",
              " 1.1521758872516563,\n",
              " 1.1519121563795156,\n",
              " 1.1516484612623836,\n",
              " 1.1513848019314297,\n",
              " 1.151121178417843,\n",
              " 1.1508575907528353,\n",
              " 1.15059403896764,\n",
              " 1.1503305230935108,\n",
              " 1.150067043161724,\n",
              " 1.1498035992035767,\n",
              " 1.1495401912503869,\n",
              " 1.1492768193334946,\n",
              " 1.149013483484262,\n",
              " 1.148750183734071,\n",
              " 1.148486920114326,\n",
              " 1.148223692656452,\n",
              " 1.1479605013918965,\n",
              " 1.1476973463521278,\n",
              " 1.147434227568635,\n",
              " 1.1471711450729298,\n",
              " 1.1469080988965445,\n",
              " 1.1466450890710325,\n",
              " 1.146382115627969,\n",
              " 1.1461191785989513,\n",
              " 1.1458562780155972,\n",
              " 1.1455934139095456,\n",
              " 1.1453305863124579,\n",
              " 1.1450677952560153,\n",
              " 1.144805040771922,\n",
              " 1.144542322891903,\n",
              " 1.1442796416477037,\n",
              " 1.1440169970710925,\n",
              " 1.143754389193858,\n",
              " 1.1434918180478115,\n",
              " 1.1432292836647835,\n",
              " 1.1429667860766275,\n",
              " 1.1427043253152185,\n",
              " 1.1424419014124516,\n",
              " 1.1421795144002445,\n",
              " 1.1419171643105352,\n",
              " 1.1416548511752849,\n",
              " 1.1413925750264733,\n",
              " 1.141130335896104,\n",
              " 1.1408681338162006,\n",
              " 1.1406059688188086,\n",
              " 1.1403438409359945,\n",
              " 1.1400817501998466,\n",
              " 1.139819696642474,\n",
              " 1.139557680296007,\n",
              " 1.1392957011925986,\n",
              " 1.1390337593644224,\n",
              " 1.1387718548436718,\n",
              " 1.1385099876625633,\n",
              " 1.1382481578533346,\n",
              " 1.137986365448245,\n",
              " 1.1377246104795733,\n",
              " 1.1374628929796213,\n",
              " 1.1372012129807119,\n",
              " 1.1369395705151892,\n",
              " 1.136677965615418,\n",
              " 1.1364163983137852,\n",
              " 1.1361548686426992,\n",
              " 1.1358933766345884,\n",
              " 1.1356319223219034,\n",
              " 1.1353705057371166,\n",
              " 1.135109126912721,\n",
              " 1.1348477858812303,\n",
              " 1.1345864826751813,\n",
              " 1.13432521732713,\n",
              " 1.1340639898696556,\n",
              " 1.133802800335357,\n",
              " 1.133541648756855,\n",
              " 1.1332805351667923,\n",
              " 1.1330194595978316,\n",
              " 1.1327584220826583,\n",
              " 1.1324974226539777,\n",
              " 1.132236461344517,\n",
              " 1.1319755381870247,\n",
              " 1.1317146532142706,\n",
              " 1.1314538064590456,\n",
              " 1.1311929979541617,\n",
              " 1.1309322277324523,\n",
              " 1.1306714958267725,\n",
              " 1.1304108022699972,\n",
              " 1.1301501470950246,\n",
              " 1.1298895303347727,\n",
              " 1.1296289520221805,\n",
              " 1.1293684121902094,\n",
              " 1.1291079108718411,\n",
              " 1.1288474481000788,\n",
              " 1.1285870239079467,\n",
              " 1.128326638328491,\n",
              " 1.1280662913947772,\n",
              " 1.1278059831398948,\n",
              " 1.127545713596952,\n",
              " 1.12728548279908,\n",
              " 1.127025290779429,\n",
              " 1.1267651375711722,\n",
              " 1.1265050232075042,\n",
              " 1.1262449477216392,\n",
              " 1.1259849111468139,\n",
              " 1.1257249135162848,\n",
              " 1.1254649548633313,\n",
              " 1.1252050352212526,\n",
              " 1.1249451546233695,\n",
              " 1.124685313103024,\n",
              " 1.1244255106935785,\n",
              " 1.1241657474284181,\n",
              " 1.123906023340947,\n",
              " 1.1236463384645925,\n",
              " 1.1233866928328013,\n",
              " 1.1231270864790424,\n",
              " 1.1228675194368052,\n",
              " 1.1226079917396012,\n",
              " 1.1223485034209615,\n",
              " 1.1220890545144389,\n",
              " 1.1218296450536076,\n",
              " 1.1215702750720629,\n",
              " 1.1213109446034202,\n",
              " 1.1210516536813175,\n",
              " 1.120792402339413,\n",
              " 1.1205331906113853,\n",
              " 1.1202740185309352,\n",
              " 1.1200148861317836,\n",
              " 1.1197557934476738,\n",
              " 1.119496740512368,\n",
              " 1.119237727359651,\n",
              " 1.1189787540233285,\n",
              " 1.1187198205372269,\n",
              " 1.1184609269351933,\n",
              " 1.118202073251096,\n",
              " 1.1179432595188248,\n",
              " 1.1176844857722892,\n",
              " 1.117425752045421,\n",
              " 1.1171670583721727,\n",
              " 1.1169084047865177,\n",
              " 1.1166497913224496,\n",
              " 1.1163912180139834,\n",
              " 1.1161326848951556,\n",
              " 1.1158741920000232,\n",
              " 1.1156157393626638,\n",
              " 1.115357327017176,\n",
              " 1.1150989549976793,\n",
              " 1.114840623338316,\n",
              " 1.1145823320732455,\n",
              " 1.1143240812366515,\n",
              " 1.1140658708627367,\n",
              " 1.1138077009857248,\n",
              " 1.1135495716398618,\n",
              " 1.113291482859413,\n",
              " 1.1130334346786654,\n",
              " 1.1127754271319261,\n",
              " 1.1125174602535233,\n",
              " 1.1122595340778068,\n",
              " 1.1120016486391457,\n",
              " 1.1117438039719318,\n",
              " 1.1114860001105766,\n",
              " 1.111228237089512,\n",
              " 1.1109705149431912,\n",
              " 1.1107128337060883,\n",
              " 1.1104551934126983,\n",
              " 1.110197594097536,\n",
              " 1.1099400357951388,\n",
              " 1.109682518540062,\n",
              " 1.1094250423668848,\n",
              " 1.1091676073102053,\n",
              " 1.1089102134046416,\n",
              " 1.1086528606848352,\n",
              " 1.1083955491854454,\n",
              " 1.1081382789411542,\n",
              " 1.107881049986663,\n",
              " 1.1076238623566947,\n",
              " 1.1073667160859926,\n",
              " 1.1071096112093206,\n",
              " 1.106852547761463,\n",
              " 1.1065955257772253,\n",
              " 1.1063385452914338,\n",
              " 1.1060816063389338,\n",
              " 1.1058247089545936,\n",
              " 1.1055678531732998,\n",
              " 1.1053110390299614,\n",
              " 1.1050542665595067,\n",
              " 1.104797535796886,\n",
              " 1.1045408467770679,\n",
              " 1.1042841995350445,\n",
              " 1.1040275941058257,\n",
              " 1.1037710305244441,\n",
              " 1.103514508825951,\n",
              " 1.1032580290454195,\n",
              " 1.103001591217942,\n",
              " 1.1027451953786331,\n",
              " 1.1024888415626264,\n",
              " 1.1022325298050772,\n",
              " 1.1019762601411596,\n",
              " 1.1017200326060692,\n",
              " 1.1014638472350233,\n",
              " 1.101207704063257,\n",
              " 1.1009516031260271,\n",
              " 1.100695544458612,\n",
              " 1.1004395280963077,\n",
              " 1.1001835540744336,\n",
              " 1.0999276224283276,\n",
              " 1.0996717331933488,\n",
              " 1.099415886404875,\n",
              " 1.099160082098308,\n",
              " 1.098904320309066,\n",
              " 1.0986486010725889,\n",
              " 1.0983929244243382,\n",
              " 1.0981372903997941,\n",
              " 1.0978816990344575,\n",
              " 1.0976261503638505,\n",
              " 1.097370644423514,\n",
              " 1.09711518124901,\n",
              " 1.0968597608759207,\n",
              " 1.0966043833398489,\n",
              " 1.0963490486764165,\n",
              " 1.0960937569212663,\n",
              " 1.0958385081100617,\n",
              " 1.0955833022784855,\n",
              " 1.0953281394622412,\n",
              " 1.0950730196970526,\n",
              " 1.0948179430186629,\n",
              " 1.0945629094628364,\n",
              " 1.0943079190653564,\n",
              " 1.0940529718620275,\n",
              " 1.0937980678886736,\n",
              " 1.093543207181139,\n",
              " 1.0932883897752883,\n",
              " 1.0930336157070049,\n",
              " 1.0927788850121944,\n",
              " 1.0925241977267814,\n",
              " 1.0922695538867095,\n",
              " 1.0920149535279438,\n",
              " 1.0917603966864682,\n",
              " 1.0915058833982882,\n",
              " 1.0912514136994276,\n",
              " 1.0909969876259304,\n",
              " 1.0907426052138627,\n",
              " 1.0904882664993074,\n",
              " 1.0902339715183695,\n",
              " 1.0899797203071726,\n",
              " 1.089725512901861,\n",
              " 1.0894713493385988,\n",
              " 1.0892172296535703,\n",
              " 1.0889631538829787,\n",
              " 1.0887091220630476,\n",
              " 1.08845513423002,\n",
              " 1.0882011904201598,\n",
              " 1.0879472906697498,\n",
              " 1.0876934350150929,\n",
              " 1.0874396234925117,\n",
              " 1.0871858561383474,\n",
              " 1.0869321329889636,\n",
              " 1.086678454080741,\n",
              " 1.0864248194500818,\n",
              " 1.0861712291334076,\n",
              " 1.0859176831671584,\n",
              " 1.0856641815877952,\n",
              " 1.085410724431798,\n",
              " 1.0851573117356674,\n",
              " 1.0849039435359222,\n",
              " 1.084650619869102,\n",
              " 1.0843973407717657,\n",
              " 1.0841441062804906,\n",
              " 1.0838909164318753,\n",
              " 1.083637771262538,\n",
              " 1.0833846708091146,\n",
              " 1.083131615108262,\n",
              " 1.0828786041966567,\n",
              " 1.0826256381109938,\n",
              " 1.0823727168879882,\n",
              " 1.0821198405643748,\n",
              " 1.0818670091769071,\n",
              " 1.0816142227623589,\n",
              " 1.0813614813575223,\n",
              " 1.0811087849992105,\n",
              " 1.0808561337242546,\n",
              " 1.0806035275695056,\n",
              " 1.0803509665718338,\n",
              " 1.0800984507681286,\n",
              " 1.079845980195299,\n",
              " 1.0795935548902738,\n",
              " 1.0793411748900004,\n",
              " 1.0790888402314451,\n",
              " 1.078836550951595,\n",
              " 1.0785843070874541,\n",
              " 1.0783321086760476,\n",
              " 1.0780799557544196,\n",
              " 1.077827848359633,\n",
              " 1.0775757865287696,\n",
              " 1.077323770298931,\n",
              " 1.0770717997072374,\n",
              " 1.0768198747908284,\n",
              " 1.0765679955868628,\n",
              " 1.0763161621325184,\n",
              " 1.0760643744649918,\n",
              " 1.075812632621499,\n",
              " 1.075560936639275,\n",
              " 1.0753092865555738,\n",
              " 1.0750576824076676,\n",
              " 1.0748061242328497,\n",
              " 1.07455461206843,\n",
              " 1.0743031459517387,\n",
              " 1.0740517259201239,\n",
              " 1.0738003520109545,\n",
              " 1.073549024261616,\n",
              " 1.0732977427095145,\n",
              " 1.0730465073920739,\n",
              " 1.0727953183467376,\n",
              " 1.0725441756109675,\n",
              " 1.0722930792222443,\n",
              " 1.072042029218068,\n",
              " 1.0717910256359566,\n",
              " 1.071540068513447,\n",
              " 1.0712891578880954,\n",
              " 1.0710382937974763,\n",
              " 1.0707874762791831,\n",
              " 1.070536705370827,\n",
              " 1.0702859811100387,\n",
              " 1.0700353035344679,\n",
              " 1.0697846726817821,\n",
              " 1.069534088589668,\n",
              " 1.0692835512958303,\n",
              " 1.0690330608379923,\n",
              " 1.0687826172538961,\n",
              " 1.068532220581303,\n",
              " 1.0682818708579909,\n",
              " 1.0680315681217587,\n",
              " 1.0677813124104218,\n",
              " 1.067531103761815,\n",
              " 1.0672809422137899,\n",
              " 1.0670308278042193,\n",
              " 1.0667807605709922,\n",
              " 1.0665307405520172,\n",
              " 1.0662807677852195,\n",
              " 1.0660308423085452,\n",
              " 1.065780964159956,\n",
              " 1.0655311333774342,\n",
              " 1.0652813499989784,\n",
              " 1.0650316140626075,\n",
              " 1.0647819256063566,\n",
              " 1.0645322846682796,\n",
              " 1.06428269128645,\n",
              " 1.0640331454989573,\n",
              " 1.0637836473439108,\n",
              " 1.0635341968594365,\n",
              " 1.06328479408368,\n",
              " 1.0630354390548038,\n",
              " 1.062786131810989,\n",
              " 1.0625368723904343,\n",
              " 1.062287660831357,\n",
              " 1.0620384971719918,\n",
              " 1.061789381450592,\n",
              " 1.061540313705428,\n",
              " 1.0612912939747887,\n",
              " 1.061042322296981,\n",
              " 1.060793398710329,\n",
              " 1.0605445232531756,\n",
              " 1.0602956959638812,\n",
              " 1.060046916880823,\n",
              " 1.0597981860423975,\n",
              " 1.059549503487018,\n",
              " 1.059300869253116,\n",
              " 1.05905228337914,\n",
              " 1.0588037459035575,\n",
              " 1.058555256864853,\n",
              " 1.0583068163015272,\n",
              " 1.0580584242521012,\n",
              " 1.0578100807551116,\n",
              " 1.0575617858491133,\n",
              " 1.057313539572679,\n",
              " 1.0570653419643983,\n",
              " 1.0568171930628782,\n",
              " 1.0565690929067448,\n",
              " 1.0563210415346402,\n",
              " 1.0560730389852233,\n",
              " 1.0558250852971727,\n",
              " 1.0555771805091816,\n",
              " 1.0553293246599629,\n",
              " 1.0550815177882458,\n",
              " 1.0548337599327773,\n",
              " 1.0545860511323208,\n",
              " 1.0543383914256577,\n",
              " 1.0540907808515863,\n",
              " 1.0538432194489227,\n",
              " 1.0535957072564996,\n",
              " 1.0533482443131668,\n",
              " 1.053100830657792,\n",
              " 1.0528534663292595,\n",
              " 1.0526061513664702,\n",
              " 1.052358885808343,\n",
              " 1.0521116696938135,\n",
              " 1.051864503061834,\n",
              " 1.0516173859513749,\n",
              " 1.0513703184014218,\n",
              " 1.0511233004509783,\n",
              " 1.0508763321390648,\n",
              " 1.0506294135047194,\n",
              " 1.0503825445869954,\n",
              " 1.0501357254249644,\n",
              " 1.0498889560577136,\n",
              " 1.0496422365243483,\n",
              " 1.0493955668639894]"
            ]
          },
          "metadata": {},
          "execution_count": 33
        }
      ]
    },
    {
      "cell_type": "code",
      "source": [
        "def run_experiment(learning_rates, epochs):\n",
        "  plot_data = {}\n",
        "  for lr in learning_rates:\n",
        "    #initialize the model\n",
        "    lgr = LogisticRegression(1, 1, 2)\n",
        "    losses = run_gradient_decent(lgr, x, y, epochs, lr)\n",
        "    plot_data[lr] = losses\n",
        "\n",
        "  return plot_data"
      ],
      "metadata": {
        "id": "2w297ue5V-Mz"
      },
      "execution_count": 34,
      "outputs": []
    },
    {
      "cell_type": "code",
      "source": [
        "plot_data = run_experiment([0.0001,0.001, 0.01, 0.1], 5000)\n",
        "\n",
        "plot_data.keys()"
      ],
      "metadata": {
        "colab": {
          "base_uri": "https://localhost:8080/"
        },
        "id": "0n6DPZRZXqIH",
        "outputId": "4ea3470d-f334-43c4-84bc-979465380191"
      },
      "execution_count": 35,
      "outputs": [
        {
          "output_type": "execute_result",
          "data": {
            "text/plain": [
              "dict_keys([0.0001, 0.001, 0.01, 0.1])"
            ]
          },
          "metadata": {},
          "execution_count": 35
        }
      ]
    },
    {
      "cell_type": "code",
      "source": [
        "fig, ax = plt.subplots(figsize=(10, 6))\n",
        "\n",
        "for lr, losses in plot_data.items():\n",
        "    ax.plot(losses, label=f\"Learning Rate: {lr}\")\n",
        "\n",
        "\n",
        "ax.set_xlabel(\"Epochs\")\n",
        "ax.set_ylabel(\"Loss\")\n",
        "ax.set_title(\"Loss vs Epochs for Different Learning Rates\")\n",
        "ax.legend()\n",
        "plt.show()"
      ],
      "metadata": {
        "colab": {
          "base_uri": "https://localhost:8080/",
          "height": 564
        },
        "id": "Fd2sZTPLZzwJ",
        "outputId": "6b90a406-1717-404e-d30e-c644c46353ba"
      },
      "execution_count": 36,
      "outputs": [
        {
          "output_type": "display_data",
          "data": {
            "text/plain": [
              "<Figure size 1000x600 with 1 Axes>"
            ],
            "image/png": "[encoded data removed]"
          },
          "metadata": {}
        }
      ]
    },
    {
      "cell_type": "code",
      "source": [],
      "metadata": {
        "id": "JhqRNbJqD7J4"
      },
      "execution_count": null,
      "outputs": []
    }
  ]
}