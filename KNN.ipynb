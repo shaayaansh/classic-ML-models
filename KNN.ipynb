{
  "nbformat": 4,
  "nbformat_minor": 0,
  "metadata": {
    "colab": {
      "provenance": []
    },
    "kernelspec": {
      "name": "python3",
      "display_name": "Python 3"
    },
    "language_info": {
      "name": "python"
    }
  },
  "cells": [
    {
      "cell_type": "code",
      "execution_count": 1,
      "metadata": {
        "id": "7-mLJIGr9R15"
      },
      "outputs": [],
      "source": [
        "import numpy as np\n",
        "import pandas as pd\n",
        "import matplotlib.pyplot as plt"
      ]
    },
    {
      "cell_type": "code",
      "source": [
        "# generate random data\n",
        "x_train = np.random.random((100, 2))\n",
        "y_train = np.random.random(100)\n",
        "y_train = np.where(y_train > 0.5, 1, 0)"
      ],
      "metadata": {
        "id": "9cy89aeT9cC2"
      },
      "execution_count": 7,
      "outputs": []
    },
    {
      "cell_type": "code",
      "source": [
        "class KNN():\n",
        "  def __init__(self, k, x_train, y_train):\n",
        "    self.k = k\n",
        "    self.x_train = x_train\n",
        "    self.y_train = y_train\n",
        "\n",
        "  def predict(self, x):\n",
        "    distances = self.compute_distance(x_train, x)\n",
        "    distances = list(distances)\n",
        "    distance_tuples = [(distances[i], y_train[i]) for i in range(len(y_train))]\n",
        "    sorted_dist = sorted(distance_tuples, key=lambda x: x[0], reverse=False)\n",
        "    top_k = [tup[1] for tup in sorted_dist[:self.k]]\n",
        "    print(sorted_dist[:self.k])\n",
        "    return max(top_k, key=lambda x: top_k.count(x))\n",
        "\n",
        "  def compute_distance(self, x1, x2):\n",
        "    return np.sum((x1 - x2) ** 2, axis=1)"
      ],
      "metadata": {
        "id": "M0IExx9a9gvN"
      },
      "execution_count": 40,
      "outputs": []
    },
    {
      "cell_type": "code",
      "source": [
        "knn = KNN(5, x_train, y_train)\n",
        "\n",
        "knn.predict([0.4, 0.3])"
      ],
      "metadata": {
        "colab": {
          "base_uri": "https://localhost:8080/"
        },
        "id": "Dve_LNTo_T0x",
        "outputId": "fc3e577d-c186-49d8-8327-b628704c6a1e"
      },
      "execution_count": 48,
      "outputs": [
        {
          "output_type": "stream",
          "name": "stdout",
          "text": [
            "[(0.0026346339877037156, 1), (0.002680378931359164, 1), (0.006607491765669244, 0), (0.006765522310001671, 0), (0.007422773487070159, 0)]\n"
          ]
        },
        {
          "output_type": "execute_result",
          "data": {
            "text/plain": [
              "0"
            ]
          },
          "metadata": {},
          "execution_count": 48
        }
      ]
    }
  ]
}