{
  "nbformat": 4,
  "nbformat_minor": 0,
  "metadata": {
    "colab": {
      "provenance": []
    },
    "kernelspec": {
      "name": "python3",
      "display_name": "Python 3"
    },
    "language_info": {
      "name": "python"
    }
  },
  "cells": [
    {
      "cell_type": "code",
      "execution_count": null,
      "metadata": {
        "id": "JesjBsbY8e8n"
      },
      "outputs": [],
      "source": [
        "import pandas as pd\n",
        "import numpy as np\n",
        "import matplotlib.pyplot as plt\n",
        "import seaborn as sns\n",
        "import warnings\n",
        "warnings.filterwarnings('ignore')"
      ]
    },
    {
      "cell_type": "code",
      "source": [
        "# generate random linear data with a noise\n",
        "# the data has only one feature: x\n",
        "\n",
        "np.random.seed(0)\n",
        "x = np.random.rand(100, 1)\n",
        "y = 2 * x.squeeze() + 1 + np.random.rand(100)/3\n",
        "\n",
        "# create a scatter plot\n",
        "plt.scatter(x, y)\n",
        "plt.xlabel('x')\n",
        "plt.ylabel('y')\n",
        "plt.show()"
      ],
      "metadata": {
        "colab": {
          "base_uri": "https://localhost:8080/",
          "height": 449
        },
        "id": "Jx2PsoDD8jI1",
        "outputId": "04780add-628c-4454-992f-fb6d0ba239ac"
      },
      "execution_count": null,
      "outputs": [
        {
          "output_type": "display_data",
          "data": {
            "text/plain": [
              "<Figure size 640x480 with 1 Axes>"
            ],
            "image/png": "[encoded data removed]"
          },
          "metadata": {}
        }
      ]
    },
    {
      "cell_type": "code",
      "source": [
        "x.shape"
      ],
      "metadata": {
        "colab": {
          "base_uri": "https://localhost:8080/"
        },
        "id": "rlRqo2ub85LT",
        "outputId": "8008788a-d638-4699-b254-5ffe4d309d6e"
      },
      "execution_count": null,
      "outputs": [
        {
          "output_type": "execute_result",
          "data": {
            "text/plain": [
              "(100, 1)"
            ]
          },
          "metadata": {},
          "execution_count": 3
        }
      ]
    },
    {
      "cell_type": "code",
      "source": [
        "y.shape"
      ],
      "metadata": {
        "colab": {
          "base_uri": "https://localhost:8080/"
        },
        "id": "Il7UqaPZ9BGB",
        "outputId": "2d07462f-be69-4174-bb04-2df5c73fff81"
      },
      "execution_count": null,
      "outputs": [
        {
          "output_type": "execute_result",
          "data": {
            "text/plain": [
              "(100,)"
            ]
          },
          "metadata": {},
          "execution_count": 4
        }
      ]
    },
    {
      "cell_type": "code",
      "source": [
        "def get_mse_error(x, y):\n",
        "    return np.mean((x-y) ** 2) / 2\n",
        "\n",
        "\n",
        "get_mse_error(np.array([1, 2, 3]), np.array([2,4,5]))"
      ],
      "metadata": {
        "colab": {
          "base_uri": "https://localhost:8080/"
        },
        "id": "vXci0MIk9Ej-",
        "outputId": "34f6ed8f-941c-430b-e593-3d5ec9b71baa"
      },
      "execution_count": null,
      "outputs": [
        {
          "output_type": "execute_result",
          "data": {
            "text/plain": [
              "1.5"
            ]
          },
          "metadata": {},
          "execution_count": 5
        }
      ]
    },
    {
      "cell_type": "code",
      "source": [
        "class LRModel():\n",
        "    def __init__(self, w, b):\n",
        "        self.w = w\n",
        "        self.b = b\n",
        "\n",
        "    def predict(self, x):\n",
        "        return self.w * x + self.b"
      ],
      "metadata": {
        "id": "OjCf2fgV9p0H"
      },
      "execution_count": null,
      "outputs": []
    },
    {
      "cell_type": "code",
      "source": [
        "# initialize the model with arbitrary w and b\n",
        "model = LRModel(5, 2)\n",
        "model.predict(np.array([1, 2, 3]))"
      ],
      "metadata": {
        "colab": {
          "base_uri": "https://localhost:8080/"
        },
        "id": "GmAz3QyZ6-t4",
        "outputId": "b39541c3-ebc9-4ea0-afaa-b1d74cd7593e"
      },
      "execution_count": null,
      "outputs": [
        {
          "output_type": "execute_result",
          "data": {
            "text/plain": [
              "array([ 7, 12, 17])"
            ]
          },
          "metadata": {},
          "execution_count": 58
        }
      ]
    },
    {
      "cell_type": "code",
      "source": [
        "def differentiate_mse(x, y, w, b):\n",
        "    m = x.shape[0]\n",
        "    y_pred = model.predict(x)\n",
        "    dw = (1/m) * np.sum(x * (y_pred - y))\n",
        "    db = 1/m * np.sum(y_pred - y)\n",
        "\n",
        "    return dw, db"
      ],
      "metadata": {
        "id": "5lbh7lrR7Ljz"
      },
      "execution_count": null,
      "outputs": []
    },
    {
      "cell_type": "code",
      "source": [
        "# running the loop without any parameter update\n",
        "# in every iteration the model outputs the same prediction\n",
        "for epoch in range(10):\n",
        "    y_pred = model.predict(x)\n",
        "    loss = get_mse_error(y_pred, y)\n",
        "    print(loss)"
      ],
      "metadata": {
        "colab": {
          "base_uri": "https://localhost:8080/"
        },
        "id": "aUEg3p-a8o_4",
        "outputId": "a0fdb16d-1f70-4833-fca3-39bf175f1a5f"
      },
      "execution_count": null,
      "outputs": [
        {
          "output_type": "stream",
          "name": "stdout",
          "text": [
            "3.7200225972869374\n",
            "3.7200225972869374\n",
            "3.7200225972869374\n",
            "3.7200225972869374\n",
            "3.7200225972869374\n",
            "3.7200225972869374\n",
            "3.7200225972869374\n",
            "3.7200225972869374\n",
            "3.7200225972869374\n",
            "3.7200225972869374\n"
          ]
        }
      ]
    },
    {
      "cell_type": "code",
      "source": [
        "def update_weights(model, loss, learning_rate):\n",
        "    dw, db = differentiate_mse(x, y, model.w, model.b)\n",
        "    model.w = model.w - learning_rate * dw\n",
        "    model.b = model.b - learning_rate * db\n",
        "\n",
        "    return model"
      ],
      "metadata": {
        "id": "LNmcL-G59jAz"
      },
      "execution_count": null,
      "outputs": []
    },
    {
      "cell_type": "code",
      "source": [
        "# running training loop with parameter update\n",
        "losses = []\n",
        "\n",
        "for epoch in range(100):\n",
        "  y_pred = model.predict(x)\n",
        "  loss = get_mse_error(y_pred, y)\n",
        "  losses.append(loss)\n",
        "  print(f\"Loss: {loss}, Model.w: {model.w}, Model.b: {model.b}\")\n",
        "  model = update_weights(model, loss, 0.001)"
      ],
      "metadata": {
        "colab": {
          "base_uri": "https://localhost:8080/"
        },
        "id": "5Ycp-pBY-IY7",
        "outputId": "ae690011-5b6f-4680-c99b-570b01a222fc"
      },
      "execution_count": null,
      "outputs": [
        {
          "output_type": "stream",
          "name": "stdout",
          "text": [
            "Loss: 3.7200225972869374, Model.w: 5, Model.b: 2\n",
            "Loss: 3.0435460553729534, Model.w: 4.85242396395514, Model.b: 1.7757645733561702\n",
            "Loss: 2.5223846165977033, Model.w: 4.719975086895774, Model.b: 1.5809299934468921\n",
            "Loss: 2.1204459130626723, Model.w: 4.600799437801883, Model.b: 1.4118409728409436\n",
            "Loss: 1.8100306388181329, Model.w: 4.493272756525383, Model.b: 1.2652954055667396\n",
            "Loss: 1.5698807156598054, Model.w: 4.3959719847505765, Model.b: 1.1384881902690316\n",
            "Loss: 1.3836813654467037, Model.w: 4.307650325969452, Model.b: 1.0289620170485887\n",
            "Loss: 1.238911531225803, Model.w: 4.2272153970153115, Model.b: 0.9345642547669142\n",
            "Loss: 1.1259616373034702, Model.w: 4.153710087925284, Model.b: 0.8534091826025216\n",
            "Loss: 1.0374565175595385, Model.w: 4.086295794407421, Model.b: 0.7838449033854912\n",
            "Loss: 0.9677357993373232, Model.w: 4.0242377288044064, Model.b: 0.7244243583571972\n",
            "Loss: 0.9124551260078686, Model.w: 3.9668920519035593, Model.b: 0.6738799349426495\n",
            "Loss: 0.8682801167086535, Model.w: 3.913694599881123, Model.b: 0.6311012221456962\n",
            "Loss: 0.832651496869329, Model.w: 3.864151008648076, Model.b: 0.5951155233878352\n",
            "Loss: 0.8036048484837682, Model.w: 3.8178280623756655, Model.b: 0.5650707849779915\n",
            "Loss: 0.7796322780961534, Model.w: 3.7743461144514185, Model.b: 0.5402206407716986\n",
            "Loss: 0.7595762543755165, Model.w: 3.733372447927227, Model.b: 0.5199113106968939\n",
            "Loss: 0.7425481341173839, Model.w: 3.694615459000135, Model.b: 0.5035701233410574\n",
            "Loss: 0.7278656352841599, Model.w: 3.6578195615027616, Model.b: 0.490695461281083\n",
            "Loss: 0.715004850877911, Model.w: 3.622760723027069, Model.b: 0.4808479527927152\n",
            "Loss: 0.7035634221195105, Model.w: 3.58924255438426, Model.b: 0.4736427554383614\n",
            "Loss: 0.6932322757950483, Model.w: 3.5570928838093225, Model.b: 0.4687427961840491\n",
            "Loss: 0.6837739341400102, Model.w: 3.5261607558213206, Model.b: 0.4658528494741868\n",
            "Loss: 0.6750058687928686, Model.w: 3.4963138020991633, Model.b: 0.46471434939088474\n",
            "Loss: 0.6667877258009326, Model.w: 3.4674359382578595, Model.b: 0.465100844900718\n",
            "Loss: 0.6590115214509679, Model.w: 3.439425346126684, Model.b: 0.4668140184718129\n",
            "Loss: 0.6515941180484697, Model.w: 3.412192706138486, Model.b: 0.4696801982258701\n",
            "Loss: 0.6444714494353743, Model.w: 3.3856596488264024, Model.b: 0.47354730244652976\n",
            "Loss: 0.6375940893384179, Model.w: 3.3597573982674747, Model.b: 0.478282162849182\n",
            "Loss: 0.6309238502683218, Model.w: 3.3344255836794665, Model.b: 0.48376817966094615\n",
            "Loss: 0.6244311733118562, Model.w: 3.309611198326658, Model.b: 0.4899032673796222\n",
            "Loss: 0.6180931248922042, Model.w: 3.285267687474236, Model.b: 0.49659805517904043\n",
            "Loss: 0.6118918593454156, Model.w: 3.2613541493944544, Model.b: 0.5037743103948299\n",
            "Loss: 0.605813438986217, Model.w: 3.2378346354107115, Model.b: 0.5113635574375474\n",
            "Loss: 0.5998469285282438, Model.w: 3.214677536702836, Model.b: 0.5193058679079773\n",
            "Loss: 0.5939837000570991, Model.w: 3.1918550471187084, Model.b: 0.5275488006923709\n",
            "Loss: 0.5882168995919427, Model.w: 3.169342692570505, Model.b: 0.5360464734460966\n",
            "Loss: 0.5825410376581446, Model.w: 3.1471189187617723, Model.b: 0.5447587491787809\n",
            "Loss: 0.5769516750323128, Model.w: 3.125164730014681, Model.b: 0.5536505236729455\n",
            "Loss: 0.5714451815275484, Model.w: 3.1034633728631156, Model.b: 0.5626911012368058\n",
            "Loss: 0.5660185508336869, Model.w: 3.0820000588624623, Model.b: 0.5718536478413121\n",
            "Loss: 0.5606692583772639, Model.w: 3.0607617217548304, Model.b: 0.5811147120488709\n",
            "Loss: 0.555395152197335, Model.w: 3.039736804731041, Model.b: 0.5904538053302717\n",
            "Loss: 0.5501943691597109, Model.w: 3.0189150740586226, Model.b: 0.5998530344080434\n",
            "Loss: 0.5450652706175817, Model.w: 2.9982874558075188, Model.b: 0.6092967791770287\n",
            "Loss: 0.5400063929967072, Model.w: 2.9778458928103477, Model.b: 0.6187714105524094\n",
            "Loss: 0.5350164098349162, Model.w: 2.9575832193489746, Model.b: 0.6282650432957588\n",
            "Loss: 0.5300941026126664, Model.w: 2.937493051370073, Model.b: 0.6377673194832325\n",
            "Loss: 0.5252383383307636, Model.w: 2.9175696903047386, Model.b: 0.6472692188174785\n",
            "Loss: 0.5204480522666468, Model.w: 2.897808038805828, Model.b: 0.6567628924557071\n",
            "Loss: 0.5157222347054222, Model.w: 2.878203526925731, Model.b: 0.6662415174388407\n",
            "Loss: 0.5110599207217765, Model.w: 2.8587520474404213, Model.b: 0.675699169168017\n",
            "Loss: 0.5064601823037396, Model.w: 2.8394498991860315, Model.b: 0.6851307096912814\n",
            "Loss: 0.5019221222741528, Model.w: 2.8202937374147656, Model.b: 0.6945316898406227\n",
            "Loss: 0.4974448695922315, Model.w: 2.801280530300054, Model.b: 0.7038982635024459\n",
            "Loss: 0.49302757571472355, Model.w: 2.7824075208287242, Model.b: 0.7132271125174079\n",
            "Loss: 0.48866941177069273, Model.w: 2.7636721934124475, Model.b: 0.7225153808919843\n",
            "Loss: 0.4843695663611508, Model.w: 2.7450722446334854, Model.b: 0.7317606171674695\n",
            "Loss: 0.48012724383865707, Model.w: 2.726605557612284, Model.b: 0.7409607239352005\n",
            "Loss: 0.4759416629556917, Model.w: 2.7082701795479776, Model.b: 0.7501139136121413\n",
            "Loss: 0.47181205579646146, Model.w: 2.6900643020385204, Model.b: 0.7592186697007818\n",
            "Loss: 0.4677376669266373, Model.w: 2.6719862438359154, Model.b: 0.7682737128534972\n",
            "Loss: 0.46371775271074994, Model.w: 2.6540344357347108, Model.b: 0.7772779711457952\n",
            "Loss: 0.45975158075865685, Model.w: 2.6362074073293553, Model.b: 0.7862305540366994\n",
            "Loss: 0.45583842947146014, Model.w: 2.6185037754087834, Model.b: 0.7951307295591998\n",
            "Loss: 0.4519775876641402, Model.w: 2.6009222337852984, Model.b: 0.8039779043403547\n",
            "Loss: 0.44816835424744833, Model.w: 2.5834615443799955, Model.b: 0.8127716061002657\n",
            "Loss: 0.4444100379556613, Model.w: 2.5661205294089893, Model.b: 0.8215114683226323\n",
            "Loss: 0.44070195710990595, Model.w: 2.548898064534017, Model.b: 0.830197216827681\n",
            "Loss: 0.4370434394091533, Model.w: 2.531793072857906, Model.b: 0.8388286580116355\n",
            "Loss: 0.43343382174281414, Model.w: 2.5148045196601987, Model.b: 0.8474056685461324\n",
            "Loss: 0.42987245002027247, Model.w: 2.4979314077812202, Model.b: 0.8559281863565903\n",
            "Loss: 0.4263586790137738, Model.w: 2.4811727735742264, Model.b: 0.864396202720981\n",
            "Loss: 0.4228918722119157, Model.w: 2.4645276833552496, Model.b: 0.8728097553501037\n",
            "Loss: 0.4194714016816191, Model.w: 2.447995230288968, Model.b: 0.8811689223276804\n",
            "Loss: 0.41609664793695267, Model.w: 2.4315745316565813, Model.b: 0.8894738168036762\n",
            "Loss: 0.412766999813551, Model.w: 2.4152647264583615, Model.b: 0.8977245823474609\n",
            "Loss: 0.4094818543476628, Model.w: 2.3990649733094243, Model.b: 0.9059213888790038\n",
            "Loss: 0.40624061665907596, Model.w: 2.3829744485923943, Model.b: 0.9140644291064365\n",
            "Loss: 0.40304269983734664, Model.w: 2.3669923448351526, Model.b: 0.9221539154071995\n",
            "Loss: 0.39988752483088014, Model.w: 2.351117869285786, Model.b: 0.9301900770977736\n",
            "Loss: 0.39677452033851834, Model.w: 2.335350242660321, Model.b: 0.9381731580438135\n",
            "Loss: 0.39370312270336033, Model.w: 2.319688698041854, Model.b: 0.9461034145684748\n",
            "Loss: 0.3906727758086056, Model.w: 2.304132479912325, Model.b: 0.9539811136219561\n",
            "Loss: 0.3876829309752506, Model.w: 2.288680843300535, Model.b: 0.9618065311798648\n",
            "Loss: 0.3847330468615084, Model.w: 2.273333053032005, Model.b: 0.9695799508420266\n",
            "Loss: 0.3818225893638445, Model.w: 2.2580883830680913, Model.b: 0.9773016626068813\n",
            "Loss: 0.37895103151954473, Model.w: 2.2429461159233104, Model.b: 0.9849719617996846\n",
            "Loss: 0.3761178534107452, Model.w: 2.2279055421512064, Model.b: 0.992591148135438\n",
            "Loss: 0.37332254206986865, Model.w: 2.2129659598902887, Model.b: 1.0001595248998345\n",
            "Loss: 0.37056459138641856, Model.w: 2.1981266744626162, Model.b: 1.0076773982335767\n",
            "Loss: 0.3678435020150922, Model.w: 2.1833869980185305, Model.b: 1.0151450765072418\n",
            "Loss: 0.3651587812851764, Model.w: 2.168746249221838, Model.b: 1.0225628697754576\n",
            "Loss: 0.36250994311119844, Model.w: 2.154203752970452, Model.b: 1.0299310893005444\n",
            "Loss: 0.3598965079048024, Model.w: 2.139758840148125, Model.b: 1.0372500471370014\n",
            "Loss: 0.3573180024878294, Model.w: 2.1254108474034363, Model.b: 1.044520055769282\n",
            "Loss: 0.35477396000657885, Model.w: 2.111159116952686, Model.b: 1.0517414277962402\n",
            "Loss: 0.35226391984722966, Model.w: 2.09700299640375, Model.b: 1.0589144756564535\n",
            "Loss: 0.34978742755240444, Model.w: 2.0829418385983254, Model.b: 1.0660395113893388\n",
            "Loss: 0.3473440347388564, Model.w: 2.0689750014703048, Model.b: 1.0731168464276173\n"
          ]
        }
      ]
    },
    {
      "cell_type": "code",
      "source": [
        "model.w, model.b"
      ],
      "metadata": {
        "colab": {
          "base_uri": "https://localhost:8080/"
        },
        "id": "yR45FkAZ-W5E",
        "outputId": "d5318018-6363-4081-93db-79cfc2c55c1b"
      },
      "execution_count": null,
      "outputs": [
        {
          "output_type": "execute_result",
          "data": {
            "text/plain": [
              "(2.055101847918309, 1.0801467914172282)"
            ]
          },
          "metadata": {},
          "execution_count": 63
        }
      ]
    },
    {
      "cell_type": "code",
      "source": [
        "iterations = np.arange(100)\n",
        "plt.plot(iterations, losses)\n",
        "plt.xlabel('Iterations')\n",
        "plt.ylabel('Loss')\n",
        "plt.show()"
      ],
      "metadata": {
        "colab": {
          "base_uri": "https://localhost:8080/",
          "height": 449
        },
        "id": "KmKjVEh6GxHB",
        "outputId": "54129091-3ebb-49af-92b3-3ca1ac6e1b19"
      },
      "execution_count": null,
      "outputs": [
        {
          "output_type": "display_data",
          "data": {
            "text/plain": [
              "<Figure size 640x480 with 1 Axes>"
            ],
            "image/png": "[encoded data removed]"
          },
          "metadata": {}
        }
      ]
    }
  ]
}